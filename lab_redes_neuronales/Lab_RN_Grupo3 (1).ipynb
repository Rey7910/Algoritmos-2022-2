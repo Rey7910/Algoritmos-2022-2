{
  "cells": [
    {
      "cell_type": "markdown",
      "source": [
        "# Laboratorio de Redes Neuronales\n",
        "# Algoritmos Grupo 2\n",
        "# 2022-2\n",
        "#### - Hector Alfonso \n",
        "#### - Francesca Bonilla \n",
        "#### - Paula Velosa\n",
        "#### - Sergio Sánchez\n",
        "#### - Reinaldo Toledo"
      ],
      "metadata": {
        "id": "MepmdZkf5cTr"
      }
    },
    {
      "cell_type": "markdown",
      "source": [
        "# Parte 1.\n",
        "#Ejecución del algoritmo \n",
        "##(se comenta la complejidad de cada sentencia en el código)"
      ],
      "metadata": {
        "id": "mM4vbKGO6xBR"
      }
    },
    {
      "cell_type": "markdown",
      "metadata": {
        "id": "41TXUwo9qaCK"
      },
      "source": [
        "###Codigo e implementación https://github.com/Psychofun/Red-Neuronal-Numpy\n",
        "Autor: PsyFun\n",
        "##Preprocesamiento de los datos, para estandarizar (\"gre\",\"gpa\") e individualizar la caracteristica categorica \"rank\""
      ]
    },
    {
      "cell_type": "code",
      "execution_count": 331,
      "metadata": {
        "id": "AJZTjn-Jk-NB",
        "colab": {
          "base_uri": "https://localhost:8080/"
        },
        "outputId": "35fc2f87-d694-48b7-c2c3-d42a146e04a6"
      },
      "outputs": [
        {
          "output_type": "stream",
          "name": "stdout",
          "text": [
            "            admit         gre         gpa       rank\n",
            "count  400.000000  400.000000  400.000000  400.00000\n",
            "mean     0.317500  587.700000    3.389900    2.48500\n",
            "std      0.466087  115.516536    0.380567    0.94446\n",
            "min      0.000000  220.000000    2.260000    1.00000\n",
            "25%      0.000000  520.000000    3.130000    2.00000\n",
            "50%      0.000000  580.000000    3.395000    2.00000\n",
            "75%      1.000000  660.000000    3.670000    3.00000\n",
            "max      1.000000  800.000000    4.000000    4.00000\n",
            "(400, 4)\n",
            "   admit  gre   gpa  rank\n",
            "0      0  380  3.61     3\n",
            "1      1  660  3.67     3\n",
            "2      1  800  4.00     1\n",
            "3      1  640  3.19     4\n",
            "4      0  520  2.93     4\n"
          ]
        }
      ],
      "source": [
        "import numpy as np\n",
        "import pandas as pd\n",
        "\n",
        "admissions = pd.read_csv('/content/drive/Shareddrives/Algoritmos G3/Laboratorios/lab RN/binary.csv')    # la ubicación del archivo es la de la unidad compartida del grupo O(1)\n",
        "print(admissions.describe())   # O(1)\n",
        "print(admissions.shape)        # O(1)      \n",
        "print(admissions.head())       # O(1)"
      ]
    },
    {
      "cell_type": "markdown",
      "metadata": {
        "id": "U9XG_Iz8sAaa"
      },
      "source": [
        "#Conversion de una variable categorica \"rank\" a variables binarias \"rank_1\",\"rank_2\",\"rank_3\", \"rank_4\""
      ]
    },
    {
      "cell_type": "code",
      "execution_count": 332,
      "metadata": {
        "id": "FcgNCowrsIVz",
        "colab": {
          "base_uri": "https://localhost:8080/"
        },
        "outputId": "3dd2da64-94c3-4dc3-e057-10fbfb12269a"
      },
      "outputs": [
        {
          "output_type": "stream",
          "name": "stdout",
          "text": [
            "            admit         gre         gpa       rank      rank_1      rank_2  \\\n",
            "count  400.000000  400.000000  400.000000  400.00000  400.000000  400.000000   \n",
            "mean     0.317500  587.700000    3.389900    2.48500    0.152500    0.377500   \n",
            "std      0.466087  115.516536    0.380567    0.94446    0.359955    0.485369   \n",
            "min      0.000000  220.000000    2.260000    1.00000    0.000000    0.000000   \n",
            "25%      0.000000  520.000000    3.130000    2.00000    0.000000    0.000000   \n",
            "50%      0.000000  580.000000    3.395000    2.00000    0.000000    0.000000   \n",
            "75%      1.000000  660.000000    3.670000    3.00000    0.000000    1.000000   \n",
            "max      1.000000  800.000000    4.000000    4.00000    1.000000    1.000000   \n",
            "\n",
            "           rank_3      rank_4  \n",
            "count  400.000000  400.000000  \n",
            "mean     0.302500    0.167500  \n",
            "std      0.459916    0.373889  \n",
            "min      0.000000    0.000000  \n",
            "25%      0.000000    0.000000  \n",
            "50%      0.000000    0.000000  \n",
            "75%      1.000000    0.000000  \n",
            "max      1.000000    1.000000  \n",
            "(400, 7)\n",
            "   admit  gre   gpa  rank_1  rank_2  rank_3  rank_4\n",
            "0      0  380  3.61       0       0       1       0\n",
            "1      1  660  3.67       0       0       1       0\n",
            "2      1  800  4.00       1       0       0       0\n",
            "3      1  640  3.19       0       0       0       1\n",
            "4      0  520  2.93       0       0       0       1\n"
          ]
        }
      ],
      "source": [
        "data = pd.concat([admissions, pd.get_dummies(admissions['rank'], prefix='rank')], axis=1) # O(1)\n",
        "print(data.describe())            # O(1)\n",
        "data = data.drop('rank', axis=1)  # O(1)\n",
        "print(data.shape)                 # O(1)\n",
        "print(data.head())                # O(1)"
      ]
    },
    {
      "cell_type": "markdown",
      "metadata": {
        "id": "fmEtWaKru5at"
      },
      "source": [
        "Estandarizacion de las variables (\"gre\",\"gpa\")"
      ]
    },
    {
      "cell_type": "code",
      "execution_count": 333,
      "metadata": {
        "id": "X5SSkXX3u5nl",
        "colab": {
          "base_uri": "https://localhost:8080/"
        },
        "outputId": "09702cf1-bb79-40d9-85b0-934c24bc94ba"
      },
      "outputs": [
        {
          "output_type": "stream",
          "name": "stdout",
          "text": [
            "(400, 7)\n",
            "            admit           gre           gpa      rank_1      rank_2  \\\n",
            "count  400.000000  4.000000e+02  4.000000e+02  400.000000  400.000000   \n",
            "mean     0.317500 -3.907985e-16  2.198242e-16    0.152500    0.377500   \n",
            "std      0.466087  1.000000e+00  1.000000e+00    0.359955    0.485369   \n",
            "min      0.000000 -3.183094e+00 -2.968993e+00    0.000000    0.000000   \n",
            "25%      0.000000 -5.860633e-01 -6.829288e-01    0.000000    0.000000   \n",
            "50%      0.000000 -6.665712e-02  1.340106e-02    0.000000    0.000000   \n",
            "75%      1.000000  6.258844e-01  7.360075e-01    0.000000    1.000000   \n",
            "max      1.000000  1.837832e+00  1.603135e+00    1.000000    1.000000   \n",
            "\n",
            "           rank_3      rank_4  \n",
            "count  400.000000  400.000000  \n",
            "mean     0.302500    0.167500  \n",
            "std      0.459916    0.373889  \n",
            "min      0.000000    0.000000  \n",
            "25%      0.000000    0.000000  \n",
            "50%      0.000000    0.000000  \n",
            "75%      1.000000    0.000000  \n",
            "max      1.000000    1.000000  \n"
          ]
        }
      ],
      "source": [
        "# Standarize features\n",
        "for field in ['gre', 'gpa']:                    # O(len['gre','gpa']) = O(2)\n",
        "    mean, std = data[field].mean(), data[field].std()   #O(1)\n",
        "    data.loc[:,field] = (data[field]-mean)/std          #O(2)\n",
        "    \n",
        "print(data.shape)         # O(1)\n",
        "print(data.describe())    # O(1)"
      ]
    },
    {
      "cell_type": "markdown",
      "metadata": {
        "id": "PVB1VUJJ3bSb"
      },
      "source": [
        "dividir el conjunto de datos para entrenamiento y evaluación del modelo"
      ]
    },
    {
      "cell_type": "code",
      "execution_count": 334,
      "metadata": {
        "id": "tPSE6sC84O8F",
        "colab": {
          "base_uri": "https://localhost:8080/"
        },
        "outputId": "78eddb8a-8935-4722-d743-7aee7e1e237d"
      },
      "outputs": [
        {
          "output_type": "stream",
          "name": "stdout",
          "text": [
            "RangeIndex(start=0, stop=400, step=1)\n"
          ]
        }
      ],
      "source": [
        "print(data.index)   # O(1)"
      ]
    },
    {
      "cell_type": "code",
      "execution_count": 335,
      "metadata": {
        "id": "SylZqIL930bt",
        "colab": {
          "base_uri": "https://localhost:8080/"
        },
        "outputId": "0aa47912-1526-47fe-881b-c17629dbae7a"
      },
      "outputs": [
        {
          "output_type": "stream",
          "name": "stdout",
          "text": [
            "(360, 7)\n",
            "(40, 7)\n"
          ]
        }
      ],
      "source": [
        "# Split off random 10% of the data for testing\n",
        "np.random.seed(21)          # O(1)\n",
        "\n",
        "sample = np.random.choice(data.index, size=int(len(data)*0.9), replace=False) #O(1)\n",
        "train_data, test_data = data.iloc[sample], data.drop(sample)    # O(1)\n",
        "print(train_data.shape)   # O(1)\n",
        "print(test_data.shape)    # O(1)"
      ]
    },
    {
      "cell_type": "markdown",
      "metadata": {
        "id": "J1pEVm7X473r"
      },
      "source": [
        "División de los datos en caracteristicas y etiquetas"
      ]
    },
    {
      "cell_type": "code",
      "execution_count": 336,
      "metadata": {
        "id": "vdlScpB946Py"
      },
      "outputs": [],
      "source": [
        "features, targets = train_data.drop('admit', axis=1), train_data['admit']         # O(1)\n",
        "features_test, targets_test = test_data.drop('admit', axis=1), test_data['admit'] # O(1)"
      ]
    },
    {
      "cell_type": "markdown",
      "metadata": {
        "id": "WKkMs94U5MBm"
      },
      "source": []
    },
    {
      "cell_type": "markdown",
      "metadata": {
        "id": "6GDBHBbT5WtC"
      },
      "source": [
        "Función de Activación"
      ]
    },
    {
      "cell_type": "code",
      "execution_count": 337,
      "metadata": {
        "id": "3X5cn6oa5amd"
      },
      "outputs": [],
      "source": [
        "def sigmoide(x):\n",
        "    return 1/(1 + np.exp(-x)) # O(1)"
      ]
    },
    {
      "cell_type": "code",
      "execution_count": 338,
      "metadata": {
        "id": "_5PDFAdG5TIm",
        "colab": {
          "base_uri": "https://localhost:8080/"
        },
        "outputId": "414c1207-68fd-4284-8c8f-342b0c67f953"
      },
      "outputs": [
        {
          "output_type": "stream",
          "name": "stdout",
          "text": [
            "(6, 2)\n",
            "(2,)\n",
            "Costo de entrenamiento:  0.22749585224305116\n",
            "Precisión: 0.650\n"
          ]
        }
      ],
      "source": [
        "# Hyperparameters\n",
        "n_hidden = 2 # Número de unidades en la capa escondida                      O(1)\n",
        "epochs = 11 # Número de iteraciones sobre el conjunto de entrenamiento    O(1)\n",
        "alpha = 0.01 # Taza de aprendizaje                                          O(1)\n",
        "\n",
        "ult_costo = None \n",
        "\n",
        "m,k = features.shape # Número de ejemplos de entrenamiento, número de dimensiones en los datos O(1)\n",
        "# Inicialización de los pesos\n",
        "entrada_escondida = np.random.normal(scale = 1/k**0.5,size = (k,n_hidden))  # O(1)\n",
        "escondida_salida = np.random.normal(scale = 1/k**0.5,size = n_hidden)       # O(1)\n",
        "print(entrada_escondida.shape)                                              # O(1)\n",
        "print(escondida_salida.shape)                                               # O(1)\n",
        "# Entrenamiento\n",
        "\n",
        "for e in range(epochs):                                                     # O(epochs)\n",
        "    # Variables para el gradiente\n",
        "    gradiente_entrada_escondida = np.zeros(entrada_escondida.shape)\n",
        "    gradiente_escondida_salida =  np.zeros(escondida_salida.shape)\n",
        "    # Itera sobre el conjunto de entrenamiento\n",
        "    for x,y in zip(features.values,targets):                                # O(min(len(features.values,targets)))                               \n",
        "        # Pasada hacia adelande (forward pass) or forward propagation\n",
        "        z = sigmoide(np.matmul(x, entrada_escondida))                       # O(1)\n",
        "        y_ =sigmoide(np.matmul(escondida_salida,z)) # predicción            # O(1)\n",
        "        # Pasada hacia atrás (backward pass)\n",
        "        salida_error = (y - y_) * y_ *(1- y_)                               # O(1)\n",
        "        \n",
        "        escondida_error = np.dot(salida_error, escondida_salida) * z * (1 -z) # O(1)\n",
        "\n",
        "        gradiente_entrada_escondida += escondida_error * x[:,None]          # O(1)\n",
        "        gradiente_escondida_salida += salida_error * z                      # O(1)\n",
        "    # Actualiza los parámetros (pesos)\n",
        "    entrada_escondida += alpha * gradiente_entrada_escondida / m            # O(1)\n",
        "    escondida_salida +=  alpha * gradiente_escondida_salida / m             # O(1)\n",
        "\n",
        "    if e % (epochs / 10 ) == 0:                                             # O(1)\n",
        "        z = sigmoide(np.dot(features.values, entrada_escondida))            # O(1)\n",
        "        y_ = sigmoide(np.dot(z, escondida_salida))                          # O(1)\n",
        "\n",
        "        # Función de costo\n",
        "        costo = np.mean(( y_ - targets)**2 )                                # O(1)\n",
        "\n",
        "        if ult_costo  and ult_costo < costo:                                # O(1)\n",
        "            print(\"Costo de  entrenamiento: \", costo, \" ADVERTENCIA -  Costo subiendo\") # O(1)\n",
        "        else:\n",
        "            print(\"Costo de entrenamiento: \", costo )                       # O(1)\n",
        "        \n",
        "        ult_costo = costo                                                   # O(1)\n",
        "\n",
        "#  Precisión en los datos de prueba \n",
        "z = sigmoide(np.dot(features_test, entrada_escondida))                      # O(1)\n",
        "y_ = sigmoide(np.dot(z, escondida_salida))                                  # O(1)\n",
        "\n",
        "\n",
        "\n",
        "predicciones =  y_ > 0.5    \n",
        "#print(predicciones)                                                # O(1)\n",
        "precision = np.mean(predicciones == targets_test)                           # O(1)\n",
        "print(\"Precisión: {:.3f}\".format(precision))                                # O(1)\n",
        "\n",
        "\n"
      ]
    },
    {
      "cell_type": "markdown",
      "source": [
        "# Paso 2\n",
        "\n",
        "###Cálculo de la complejidad en tiempo Big O() del algoritmo de redes neuronales anterior una vez identificada la complejidad de cada sentencia individualmente en el código\n",
        "\n",
        "![image.png](data:image/png;base64,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)"
      ],
      "metadata": {
        "id": "nTikZhdDQ0bf"
      }
    },
    {
      "cell_type": "markdown",
      "source": [
        "# Paso 3\n",
        "\n",
        "### Identificación el parámetro de la red neuronal que afecta en mayor medida el consumo de tiempo de ejecución.\n",
        "\n",
        "#### 1- En principio tenemos dos opciones de parámetros que influyen en mayor medida el consumo de tiempo de ejecución, estos corresponden a la variable epochs y al tamaño de los arreglos de targets y features.values (el menor de estos dos aunque en el algoritmo siempre se asume que ambos arreglos tienen el mismo tamaño\n",
        "\n",
        "#### 2- No obstante, el único parámetro como tal de la red neuronal de nuestras opciones termina siendo la variable echos ya que los arreglos targets y features.values dependen directamente de una acción involucrada con el DataSet inicial, es decir, depende directamente de los datos iniciales por lo que no lo consideramos un parámetro\n",
        "\n",
        "### En este sentido, podemos concluir que el parámetro que más influye en este algoritmo corresponde al número de iteraciones sobre el conjunto de datos, es decir, la variable 'echos'."
      ],
      "metadata": {
        "id": "AdpDpYXkVN7f"
      }
    },
    {
      "cell_type": "markdown",
      "source": [
        "## Paso 4\n",
        "\n",
        "### Construir un experimento, que le permita encontrar la cantidad de épocas suficientes, para entrenar esta red neuronal con los mismos datos.\n",
        "\n",
        "\n",
        "#####SOLUCIÓN:  Dado que el indicador para determinar la preparación de esta red neuronal viene dado por la precisión, que entre más cercana a uno tiene el valor esta variable, mejor entrenada queda nuestra red, se realizarán experimentos con con la variable de iteraciones echo con un valor de 100 y se encontró que para esta cantidad máxima de iteraciones, existen valores específicos donde la precisión llega a ser mayor.\n",
        "\n",
        "##### No obstante, no se tiene la certeza de si el valor máximo obtenido sea el mejor valor de iteración total para el entrenamiento de la red, esto debido a que se comprueba con un máximo de 100 iteraciones, y realizar este experimento con un número mayor máximo de iteraciones demandaría un tiempo de ejecución mucho mayor. Por lo tanto, basaremos el experimento para 100 iteraciones como máximo."
      ],
      "metadata": {
        "id": "u0HgEGvweJs-"
      }
    },
    {
      "cell_type": "code",
      "source": [
        " import matplotlib.pyplot as plt\n",
        "\n",
        " precisiones= []\n",
        " iteraciones = []\n",
        " \n",
        " for i in range(100):\n",
        "  # Hyperparameters\n",
        "  n_hidden = 2 # Número de unidades en la capa escondida                      O(1)\n",
        "   \n",
        "  alpha = 0.01 # Taza de aprendizaje                                          O(1)\n",
        "\n",
        "  ult_costo = None \n",
        "\n",
        "  m,k = features.shape # Número de ejemplos de entrenamiento, número de dimensiones en los datos O(1)\n",
        "  # Inicialización de los pesos\n",
        "  entrada_escondida = np.random.normal(scale = 1/k**0.5,size = (k,n_hidden))  # O(1)\n",
        "  escondida_salida = np.random.normal(scale = 1/k**0.5,size = n_hidden)       # O(1)\n",
        "  #print(entrada_escondida.shape)                                              # O(1)\n",
        "  #print(escondida_salida.shape)                                               # O(1)\n",
        "  # Entrenamiento\n",
        "\n",
        "\n",
        "  for e in range(i):                                                     # O(epochs)\n",
        "      # Variables para el gradiente\n",
        "      gradiente_entrada_escondida = np.zeros(entrada_escondida.shape)\n",
        "      gradiente_escondida_salida =  np.zeros(escondida_salida.shape)\n",
        "      # Itera sobre el conjunto de entrenamiento\n",
        "      for x,y in zip(features.values,targets):                                # O(min(len(features.values,targets)))                               \n",
        "          # Pasada hacia adelande (forward pass) or forward propagation\n",
        "          z = sigmoide(np.matmul(x, entrada_escondida))                       # O(1)\n",
        "          y_ =sigmoide(np.matmul(escondida_salida,z)) # predicción            # O(1)\n",
        "          # Pasada hacia atrás (backward pass)\n",
        "          salida_error = (y - y_) * y_ *(1- y_)                               # O(1)\n",
        "          escondida_error = np.dot(salida_error, escondida_salida) * z * (1 -z) # O(1)\n",
        "\n",
        "          gradiente_entrada_escondida += escondida_error * x[:,None]          # O(1)\n",
        "          gradiente_escondida_salida += salida_error * z                      # O(1)\n",
        "      # Actualiza los parámetros (pesos)\n",
        "      entrada_escondida += alpha * gradiente_entrada_escondida / m            # O(1)\n",
        "      escondida_salida +=  alpha * gradiente_escondida_salida / m             # O(1)\n",
        "\n",
        "      if e % (i / 10 ) == 0:                                             # O(1)\n",
        "          z = sigmoide(np.dot(features.values, entrada_escondida))            # O(1)\n",
        "          y_ = sigmoide(np.dot(z, escondida_salida))                          # O(1)\n",
        "\n",
        "          # Función de costo\n",
        "          costo = np.mean(( y_ - targets)**2 )\n",
        "          #print(\"\\n----------\\nIteración: \",e,)                                # O(1)\n",
        "\n",
        "          if ult_costo  and ult_costo < costo:  \n",
        "              f=0                              # O(1)\n",
        "              #print(\"Costo de  entrenamiento: \", costo, \" ADVERTENCIA -  Costo subiendo\") # O(1)\n",
        "          else:\n",
        "              f=0\n",
        "              #print(\"Costo de entrenamiento: \", costo )                       # O(1)\n",
        "          \n",
        "          ult_costo = costo                                                   # O(1)\n",
        "\n",
        "  #  Precisión en los datos de prueba \n",
        "  z = sigmoide(np.dot(features_test, entrada_escondida))                      # O(1)\n",
        "  y_ = sigmoide(np.dot(z, escondida_salida))                                  # O(1)\n",
        "\n",
        "  predicciones =  y_ > 0.5                                                    # O(1)\n",
        "  precision = np.mean(predicciones == targets_test) \n",
        "  precisiones.append(precision)\n",
        "  iteraciones.append(i)                          # O(1)\n",
        "  #print(\"Precisión: {:.3f}\".format(precision))                                # O(1)\n",
        "\n",
        "\n",
        "for i in precisiones:\n",
        "  plt.plot(iteraciones,precisiones)\n"
      ],
      "metadata": {
        "colab": {
          "base_uri": "https://localhost:8080/",
          "height": 269
        },
        "id": "KkLQns5TeJa7",
        "outputId": "c592e26c-2696-4178-c16a-2a15bf9cebad"
      },
      "execution_count": 339,
      "outputs": [
        {
          "output_type": "display_data",
          "data": {
            "text/plain": [
              "<Figure size 432x288 with 1 Axes>"
            ],
            "image/png": "[encoded data removed]"
          },
          "metadata": {
            "needs_background": "light"
          }
        }
      ]
    },
    {
      "cell_type": "markdown",
      "source": [
        "#### Como se puede observar, se obtiene un mejor entrenamiento basado en la precisión con un total de 78 iteraciones demostrando así la efectividad del experimento.\n",
        "\n",
        "#### No obstante, también el modelo quedó con una buena precisión en las primeras iteraciones demostrando así que no se necesitan muchas iteraciones para obtener un modelo de red neuronal correctamente entrenado bajo una función de activación de Sigmoide (por lo menos para este DataSet)"
      ],
      "metadata": {
        "id": "c_eq8EySULp7"
      }
    },
    {
      "cell_type": "markdown",
      "source": [
        "## Paso 5\n",
        "\n",
        "### Evalúe y compare la función de activación tanh(), para las neuronas de la capa oculta y cambie por ende su derivada en el cálculo de las variaciones de dW.¿Cuál es el efecto del cambio en el rendimiento de la red neuronal?\n",
        "\n",
        "\n",
        "\n",
        "#####SOLUCIÓN:  vamos a utilizar la función de Numpy de tangente hiperbólica. A continuación vamos a hallar la derivada para el cambio de las variaciones\n",
        "\n",
        "![image.png](data:image/png;base64,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)\n",
        "\n"
      ],
      "metadata": {
        "id": "rHh4WZak5qMg"
      }
    },
    {
      "cell_type": "code",
      "source": [
        "# Hyperparameters\n",
        "n_hidden = 2 # Número de unidades en la capa escondida                      O(1)\n",
        "epochs = 100 # Número de iteraciones sobre el conjunto de entrenamiento    O(1)\n",
        "alpha = 0.01 # Taza de aprendizaje                                          O(1)\n",
        "\n",
        "ult_costo = None \n",
        "\n",
        "m,k = features.shape # Número de ejemplos de entrenamiento, número de dimensiones en los datos O(1)\n",
        "# Inicialización de los pesos\n",
        "entrada_escondida = np.random.normal(scale = 1/k**0.5,size = (k,n_hidden))  # O(1)\n",
        "escondida_salida = np.random.normal(scale = 1/k**0.5,size = n_hidden)       # O(1)\n",
        "print(entrada_escondida.shape)                                              # O(1)\n",
        "print(escondida_salida.shape)                                               # O(1)\n",
        "# Entrenamiento\n",
        "\n",
        "for e in range(epochs):                                                     # O(epochs)\n",
        "    # Variables para el gradiente\n",
        "    gradiente_entrada_escondida = np.zeros(entrada_escondida.shape)\n",
        "    gradiente_escondida_salida =  np.zeros(escondida_salida.shape)\n",
        "    # Itera sobre el conjunto de entrenamiento\n",
        "    for x,y in zip(features.values,targets):                                # O(min(len(features.values,targets)))                               \n",
        "        # Pasada hacia adelande (forward pass) or forward propagation\n",
        "        z = np.tanh(np.matmul(x, entrada_escondida))                       # O(1)\n",
        "        y_ =np.tanh(np.matmul(escondida_salida,z)) # predicción            # O(1)\n",
        "        # Pasada hacia atrás (backward pass)\n",
        "        salida_error = (y - y_) * (1-np.tanh(y_))    #Aqui aplicamos la derivada hallada anteriormente                           # O(1)\n",
        "        \n",
        "        escondida_error = np.dot(salida_error, escondida_salida) * z * (1 -z) # O(1)\n",
        "\n",
        "        gradiente_entrada_escondida += escondida_error * x[:,None]          # O(1)\n",
        "        gradiente_escondida_salida += salida_error * z                      # O(1)\n",
        "    # Actualiza los parámetros (pesos)\n",
        "    entrada_escondida += alpha * gradiente_entrada_escondida / m            # O(1)\n",
        "    escondida_salida +=  alpha * gradiente_escondida_salida / m             # O(1)\n",
        "\n",
        "    if e % (epochs / 10 ) == 0:                                             # O(1)\n",
        "        z = np.tanh(np.dot(features.values, entrada_escondida))            # O(1)\n",
        "        y_ = np.tanh(np.dot(z, escondida_salida))                          # O(1)\n",
        "\n",
        "        # Función de costo\n",
        "        costo = np.mean(( y_ - targets)**2 )                                # O(1)\n",
        "\n",
        "        if ult_costo  and ult_costo < costo:                                # O(1)\n",
        "            print(\"Costo de  entrenamiento: \", costo, \" ADVERTENCIA -  Costo subiendo\") # O(1)\n",
        "        else:\n",
        "            print(\"Costo de entrenamiento: \", costo )                       # O(1)\n",
        "        \n",
        "        ult_costo = costo                                                   # O(1)\n",
        "\n",
        "#  Precisión en los datos de prueba \n",
        "z = sigmoide(np.dot(features_test, entrada_escondida))                      # O(1)\n",
        "y_ = sigmoide(np.dot(z, escondida_salida))                                  # O(1)\n",
        "\n",
        "\n",
        "\n",
        "predicciones =  y_ > 0.5    \n",
        "#print(predicciones)                                                        # O(1)\n",
        "precision = np.mean(predicciones == targets_test)                           # O(1)\n",
        "print(\"Precisión: {:.3f}\".format(precision))                                # O(1)"
      ],
      "metadata": {
        "colab": {
          "base_uri": "https://localhost:8080/"
        },
        "id": "k1T9a1jvCg2Y",
        "outputId": "6e786d8f-e6b1-4a24-86a8-8aae66d6f23c"
      },
      "execution_count": 340,
      "outputs": [
        {
          "output_type": "stream",
          "name": "stdout",
          "text": [
            "(6, 2)\n",
            "(2,)\n",
            "Costo de entrenamiento:  0.2679435009653059\n",
            "Costo de entrenamiento:  0.267286216599788\n",
            "Costo de entrenamiento:  0.2666537344119538\n",
            "Costo de entrenamiento:  0.2660451044215652\n",
            "Costo de entrenamiento:  0.26545942008678075\n",
            "Costo de entrenamiento:  0.264895815884356\n",
            "Costo de entrenamiento:  0.2643534650645234\n",
            "Costo de entrenamiento:  0.2638315775641106\n",
            "Costo de entrenamiento:  0.2633293980632896\n",
            "Costo de entrenamiento:  0.2628462041729509\n",
            "Precisión: 0.650\n"
          ]
        }
      ]
    },
    {
      "cell_type": "markdown",
      "source": [
        "Como podemos observar, con la función de tangente obtenemos un costo de entrenamiento mayor con la misma cantidad de iteraciones sobre los datos, por lo que podemos concluir que para este set de datos, es más conveniente una función de activación de Sigmoide en lugar de tangente hiperbólica"
      ],
      "metadata": {
        "id": "B8_js0BmKbwo"
      }
    }
  ],
  "metadata": {
    "colab": {
      "provenance": [],
      "collapsed_sections": []
    },
    "kernelspec": {
      "display_name": "Python 3",
      "name": "python3"
    },
    "language_info": {
      "name": "python"
    }
  },
  "nbformat": 4,
  "nbformat_minor": 0
}